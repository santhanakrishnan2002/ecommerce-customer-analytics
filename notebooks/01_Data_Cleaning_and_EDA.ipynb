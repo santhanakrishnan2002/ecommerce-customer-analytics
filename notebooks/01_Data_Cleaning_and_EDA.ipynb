{
  "cells": [
    {
      "cell_type": "code",
      "source": [
        "#The local file is used for the reproducibilty\n",
        "\n",
        "import pandas as pd \n",
        "\n",
        "df = pd.read_csv(\"data/online_retail.csv\")"
      ],
      "outputs": [],
      "execution_count": null,
      "metadata": {},
      "id": "e6964f0b-4d1a-491b-af33-5fbb40c03864"
    },
    {
      "cell_type": "code",
      "source": [
        "df.info()"
      ],
      "outputs": [
        {
          "output_type": "stream",
          "name": "stdout",
          "text": "<class 'pandas.core.frame.DataFrame'>\nRangeIndex: 1067371 entries, 0 to 1067370\nData columns (total 8 columns):\n #   Column       Non-Null Count    Dtype  \n---  ------       --------------    -----  \n 0   Invoice      1067371 non-null  object \n 1   StockCode    1067371 non-null  object \n 2   Description  1062989 non-null  object \n 3   Quantity     1067371 non-null  int64  \n 4   InvoiceDate  1067371 non-null  object \n 5   Price        1067371 non-null  float64\n 6   Customer ID  824364 non-null   float64\n 7   Country      1067371 non-null  object \ndtypes: float64(2), int64(1), object(5)\nmemory usage: 65.1+ MB\n"
        }
      ],
      "execution_count": 4,
      "metadata": {},
      "id": "078b7102-7370-46ea-a517-ed8b44a27d23"
    },
    {
      "cell_type": "code",
      "source": [
        "#Customer ID and Description columns have some missing values\n",
        "#InvoiceDate Datatype should be datetime\n",
        "#CustomerID Datatype should be int"
      ],
      "outputs": [],
      "execution_count": 5,
      "metadata": {},
      "id": "e64c814a-016c-4347-b07e-0485e149ad4a"
    },
    {
      "cell_type": "code",
      "source": [
        "df.head()"
      ],
      "outputs": [
        {
          "output_type": "execute_result",
          "execution_count": 6,
          "data": {
            "text/html": "<div>\n<style scoped>\n    .dataframe tbody tr th:only-of-type {\n        vertical-align: middle;\n    }\n\n    .dataframe tbody tr th {\n        vertical-align: top;\n    }\n\n    .dataframe thead th {\n        text-align: right;\n    }\n</style>\n<table border=\"1\" class=\"dataframe\">\n  <thead>\n    <tr style=\"text-align: right;\">\n      <th></th>\n      <th>Invoice</th>\n      <th>StockCode</th>\n      <th>Description</th>\n      <th>Quantity</th>\n      <th>InvoiceDate</th>\n      <th>Price</th>\n      <th>Customer ID</th>\n      <th>Country</th>\n    </tr>\n  </thead>\n  <tbody>\n    <tr>\n      <th>0</th>\n      <td>489434</td>\n      <td>85048</td>\n      <td>15CM CHRISTMAS GLASS BALL 20 LIGHTS</td>\n      <td>12</td>\n      <td>2009-12-01 07:45:00</td>\n      <td>6.95</td>\n      <td>13085.0</td>\n      <td>United Kingdom</td>\n    </tr>\n    <tr>\n      <th>1</th>\n      <td>489434</td>\n      <td>79323P</td>\n      <td>PINK CHERRY LIGHTS</td>\n      <td>12</td>\n      <td>2009-12-01 07:45:00</td>\n      <td>6.75</td>\n      <td>13085.0</td>\n      <td>United Kingdom</td>\n    </tr>\n    <tr>\n      <th>2</th>\n      <td>489434</td>\n      <td>79323W</td>\n      <td>WHITE CHERRY LIGHTS</td>\n      <td>12</td>\n      <td>2009-12-01 07:45:00</td>\n      <td>6.75</td>\n      <td>13085.0</td>\n      <td>United Kingdom</td>\n    </tr>\n    <tr>\n      <th>3</th>\n      <td>489434</td>\n      <td>22041</td>\n      <td>RECORD FRAME 7\" SINGLE SIZE</td>\n      <td>48</td>\n      <td>2009-12-01 07:45:00</td>\n      <td>2.10</td>\n      <td>13085.0</td>\n      <td>United Kingdom</td>\n    </tr>\n    <tr>\n      <th>4</th>\n      <td>489434</td>\n      <td>21232</td>\n      <td>STRAWBERRY CERAMIC TRINKET BOX</td>\n      <td>24</td>\n      <td>2009-12-01 07:45:00</td>\n      <td>1.25</td>\n      <td>13085.0</td>\n      <td>United Kingdom</td>\n    </tr>\n  </tbody>\n</table>\n</div>",
            "text/plain": "  Invoice StockCode                          Description  Quantity  \\\n0  489434     85048  15CM CHRISTMAS GLASS BALL 20 LIGHTS        12   \n1  489434    79323P                   PINK CHERRY LIGHTS        12   \n2  489434    79323W                  WHITE CHERRY LIGHTS        12   \n3  489434     22041         RECORD FRAME 7\" SINGLE SIZE         48   \n4  489434     21232       STRAWBERRY CERAMIC TRINKET BOX        24   \n\n           InvoiceDate  Price  Customer ID         Country  \n0  2009-12-01 07:45:00   6.95      13085.0  United Kingdom  \n1  2009-12-01 07:45:00   6.75      13085.0  United Kingdom  \n2  2009-12-01 07:45:00   6.75      13085.0  United Kingdom  \n3  2009-12-01 07:45:00   2.10      13085.0  United Kingdom  \n4  2009-12-01 07:45:00   1.25      13085.0  United Kingdom  "
          },
          "metadata": {}
        }
      ],
      "execution_count": 6,
      "metadata": {},
      "id": "f312454c-5a9c-4ea5-8436-ef9971b39865"
    },
    {
      "cell_type": "code",
      "source": [
        "df.tail()"
      ],
      "outputs": [
        {
          "output_type": "execute_result",
          "execution_count": 7,
          "data": {
            "text/html": "<div>\n<style scoped>\n    .dataframe tbody tr th:only-of-type {\n        vertical-align: middle;\n    }\n\n    .dataframe tbody tr th {\n        vertical-align: top;\n    }\n\n    .dataframe thead th {\n        text-align: right;\n    }\n</style>\n<table border=\"1\" class=\"dataframe\">\n  <thead>\n    <tr style=\"text-align: right;\">\n      <th></th>\n      <th>Invoice</th>\n      <th>StockCode</th>\n      <th>Description</th>\n      <th>Quantity</th>\n      <th>InvoiceDate</th>\n      <th>Price</th>\n      <th>Customer ID</th>\n      <th>Country</th>\n    </tr>\n  </thead>\n  <tbody>\n    <tr>\n      <th>1067366</th>\n      <td>581587</td>\n      <td>22899</td>\n      <td>CHILDREN'S APRON DOLLY GIRL</td>\n      <td>6</td>\n      <td>2011-12-09 12:50:00</td>\n      <td>2.10</td>\n      <td>12680.0</td>\n      <td>France</td>\n    </tr>\n    <tr>\n      <th>1067367</th>\n      <td>581587</td>\n      <td>23254</td>\n      <td>CHILDRENS CUTLERY DOLLY GIRL</td>\n      <td>4</td>\n      <td>2011-12-09 12:50:00</td>\n      <td>4.15</td>\n      <td>12680.0</td>\n      <td>France</td>\n    </tr>\n    <tr>\n      <th>1067368</th>\n      <td>581587</td>\n      <td>23255</td>\n      <td>CHILDRENS CUTLERY CIRCUS PARADE</td>\n      <td>4</td>\n      <td>2011-12-09 12:50:00</td>\n      <td>4.15</td>\n      <td>12680.0</td>\n      <td>France</td>\n    </tr>\n    <tr>\n      <th>1067369</th>\n      <td>581587</td>\n      <td>22138</td>\n      <td>BAKING SET 9 PIECE RETROSPOT</td>\n      <td>3</td>\n      <td>2011-12-09 12:50:00</td>\n      <td>4.95</td>\n      <td>12680.0</td>\n      <td>France</td>\n    </tr>\n    <tr>\n      <th>1067370</th>\n      <td>581587</td>\n      <td>POST</td>\n      <td>POSTAGE</td>\n      <td>1</td>\n      <td>2011-12-09 12:50:00</td>\n      <td>18.00</td>\n      <td>12680.0</td>\n      <td>France</td>\n    </tr>\n  </tbody>\n</table>\n</div>",
            "text/plain": "        Invoice StockCode                      Description  Quantity  \\\n1067366  581587     22899     CHILDREN'S APRON DOLLY GIRL          6   \n1067367  581587     23254    CHILDRENS CUTLERY DOLLY GIRL          4   \n1067368  581587     23255  CHILDRENS CUTLERY CIRCUS PARADE         4   \n1067369  581587     22138    BAKING SET 9 PIECE RETROSPOT          3   \n1067370  581587      POST                          POSTAGE         1   \n\n                 InvoiceDate  Price  Customer ID Country  \n1067366  2011-12-09 12:50:00   2.10      12680.0  France  \n1067367  2011-12-09 12:50:00   4.15      12680.0  France  \n1067368  2011-12-09 12:50:00   4.15      12680.0  France  \n1067369  2011-12-09 12:50:00   4.95      12680.0  France  \n1067370  2011-12-09 12:50:00  18.00      12680.0  France  "
          },
          "metadata": {}
        }
      ],
      "execution_count": 7,
      "metadata": {},
      "id": "9fcf35db-2b16-47fe-b08f-097cd4396a26"
    },
    {
      "cell_type": "code",
      "source": [
        "df.shape"
      ],
      "outputs": [
        {
          "output_type": "execute_result",
          "execution_count": 8,
          "data": {
            "text/plain": "(1067371, 8)"
          },
          "metadata": {}
        }
      ],
      "execution_count": 8,
      "metadata": {},
      "id": "8f9820ab-58e0-46ce-b940-dc9a231c0e3c"
    },
    {
      "cell_type": "code",
      "source": [
        "df.isnull().sum()"
      ],
      "outputs": [
        {
          "output_type": "execute_result",
          "execution_count": 9,
          "data": {
            "text/plain": "Invoice             0\nStockCode           0\nDescription      4382\nQuantity            0\nInvoiceDate         0\nPrice               0\nCustomer ID    243007\nCountry             0\ndtype: int64"
          },
          "metadata": {}
        }
      ],
      "execution_count": 9,
      "metadata": {},
      "id": "fc6d1d33-5e5e-4a7a-b3ab-4ca2b69556b1"
    },
    {
      "cell_type": "code",
      "source": [
        "df.describe().T"
      ],
      "outputs": [
        {
          "output_type": "execute_result",
          "execution_count": 10,
          "data": {
            "text/html": "<div>\n<style scoped>\n    .dataframe tbody tr th:only-of-type {\n        vertical-align: middle;\n    }\n\n    .dataframe tbody tr th {\n        vertical-align: top;\n    }\n\n    .dataframe thead th {\n        text-align: right;\n    }\n</style>\n<table border=\"1\" class=\"dataframe\">\n  <thead>\n    <tr style=\"text-align: right;\">\n      <th></th>\n      <th>count</th>\n      <th>mean</th>\n      <th>std</th>\n      <th>min</th>\n      <th>25%</th>\n      <th>50%</th>\n      <th>75%</th>\n      <th>max</th>\n    </tr>\n  </thead>\n  <tbody>\n    <tr>\n      <th>Quantity</th>\n      <td>1067371.0</td>\n      <td>9.938898</td>\n      <td>172.705794</td>\n      <td>-80995.00</td>\n      <td>1.00</td>\n      <td>3.0</td>\n      <td>10.00</td>\n      <td>80995.0</td>\n    </tr>\n    <tr>\n      <th>Price</th>\n      <td>1067371.0</td>\n      <td>4.649388</td>\n      <td>123.553059</td>\n      <td>-53594.36</td>\n      <td>1.25</td>\n      <td>2.1</td>\n      <td>4.15</td>\n      <td>38970.0</td>\n    </tr>\n    <tr>\n      <th>Customer ID</th>\n      <td>824364.0</td>\n      <td>15324.638504</td>\n      <td>1697.464450</td>\n      <td>12346.00</td>\n      <td>13975.00</td>\n      <td>15255.0</td>\n      <td>16797.00</td>\n      <td>18287.0</td>\n    </tr>\n  </tbody>\n</table>\n</div>",
            "text/plain": "                 count          mean          std       min       25%  \\\nQuantity     1067371.0      9.938898   172.705794 -80995.00      1.00   \nPrice        1067371.0      4.649388   123.553059 -53594.36      1.25   \nCustomer ID   824364.0  15324.638504  1697.464450  12346.00  13975.00   \n\n                 50%       75%      max  \nQuantity         3.0     10.00  80995.0  \nPrice            2.1      4.15  38970.0  \nCustomer ID  15255.0  16797.00  18287.0  "
          },
          "metadata": {}
        }
      ],
      "execution_count": 10,
      "metadata": {},
      "id": "5f825895-65ea-47c9-8042-4c752ebcc672"
    },
    {
      "cell_type": "code",
      "source": [
        "#Quantity can't be minus"
      ],
      "outputs": [],
      "execution_count": 11,
      "metadata": {},
      "id": "1c27d84f-eb67-4a1f-b346-24f854aa09dd"
    },
    {
      "cell_type": "code",
      "source": [
        "df[\"Country\"].value_counts()"
      ],
      "outputs": [
        {
          "output_type": "execute_result",
          "execution_count": 12,
          "data": {
            "text/plain": "United Kingdom          981330\nEIRE                     17866\nGermany                  17624\nFrance                   14330\nNetherlands               5140\nSpain                     3811\nSwitzerland               3189\nBelgium                   3123\nPortugal                  2620\nAustralia                 1913\nChannel Islands           1664\nItaly                     1534\nNorway                    1455\nSweden                    1364\nCyprus                    1176\nFinland                   1049\nAustria                    938\nDenmark                    817\nUnspecified                756\nGreece                     663\nJapan                      582\nPoland                     535\nUSA                        535\nUnited Arab Emirates       500\nIsrael                     371\nHong Kong                  364\nSingapore                  346\nMalta                      299\nIceland                    253\nCanada                     228\nLithuania                  189\nRSA                        169\nBahrain                    126\nBrazil                      94\nThailand                    76\nKorea                       63\nEuropean Community          61\nLebanon                     58\nWest Indies                 54\nBermuda                     34\nNigeria                     32\nCzech Republic              30\nSaudi Arabia                10\nName: Country, dtype: int64"
          },
          "metadata": {}
        }
      ],
      "execution_count": 12,
      "metadata": {},
      "id": "e8a947cf-2d04-4f63-a905-601ee3215425"
    },
    {
      "cell_type": "code",
      "source": [
        "df[\"Description\"].value_counts()"
      ],
      "outputs": [
        {
          "output_type": "execute_result",
          "execution_count": 13,
          "data": {
            "text/plain": "WHITE HANGING HEART T-LIGHT HOLDER     5918\nREGENCY CAKESTAND 3 TIER               4412\nJUMBO BAG RED RETROSPOT                3469\nASSORTED COLOUR BIRD ORNAMENT          2958\nPARTY BUNTING                          2765\n                                       ... \nIVORY PENDANT SHELL NECKLACE              1\nallocate stock for dotcom orders ta       1\nPAINTED HEART WREATH WITH BELL            1\nFLOWER FAIRY MUG+COASTER,ROSE             1\nZebra invcing error                       1\nName: Description, Length: 5698, dtype: int64"
          },
          "metadata": {}
        }
      ],
      "execution_count": 13,
      "metadata": {},
      "id": "87d4d8c6-5d23-4764-a9c2-b59f76775f3e"
    },
    {
      "cell_type": "code",
      "source": [
        "import matplotlib.pyplot as plt\n",
        "df['Quantity'].hist(bins=50)\n",
        "plt.show()"
      ],
      "outputs": [
        {
          "output_type": "display_data",
          "data": {
            "image/png": "[encoded data removed]",
            "text/plain": "<Figure size 640x480 with 1 Axes>"
          },
          "metadata": {}
        }
      ],
      "execution_count": 14,
      "metadata": {},
      "id": "b5acbb95-4f3f-4793-86d2-2f5e0cfa6812"
    },
    {
      "cell_type": "code",
      "source": [
        "df.boxplot(column=['Quantity'])\n",
        "plt.show()"
      ],
      "outputs": [
        {
          "output_type": "display_data",
          "data": {
            "image/png": "[encoded data removed]",
            "text/plain": "<Figure size 640x480 with 1 Axes>"
          },
          "metadata": {}
        }
      ],
      "execution_count": 15,
      "metadata": {},
      "id": "f2da0200-ddef-42e2-89dd-405615229277"
    },
    {
      "cell_type": "code",
      "source": [
        "df.boxplot(column=['Price'])\n",
        "plt.show()"
      ],
      "outputs": [
        {
          "output_type": "display_data",
          "data": {
            "image/png": "[encoded data removed]",
            "text/plain": "<Figure size 640x480 with 1 Axes>"
          },
          "metadata": {}
        }
      ],
      "execution_count": 16,
      "metadata": {},
      "id": "3e053353-1132-490c-b5f6-5814400292d6"
    },
    {
      "cell_type": "code",
      "source": [
        "print(f\"Original number of rows : {df.shape[0]}\")"
      ],
      "outputs": [
        {
          "output_type": "stream",
          "name": "stdout",
          "text": "Original number of rows : 1067371\n"
        }
      ],
      "execution_count": 17,
      "metadata": {},
      "id": "3961832f-4944-47d1-9b7a-624b6b1bf082"
    },
    {
      "cell_type": "code",
      "source": [
        "df.dropna(subset=[\"Customer ID\"], inplace= True)"
      ],
      "outputs": [],
      "execution_count": 18,
      "metadata": {},
      "id": "0016f582-2068-4546-abac-cfabf2192b35"
    },
    {
      "cell_type": "code",
      "source": [
        "print(f\"Original number of rows after dropping null: {df.shape[0]}\")"
      ],
      "outputs": [
        {
          "output_type": "stream",
          "name": "stdout",
          "text": "Original number of rows after dropping null: 824364\n"
        }
      ],
      "execution_count": 19,
      "metadata": {},
      "id": "0285c6a1-f299-4c20-a706-f3334c83d098"
    },
    {
      "cell_type": "code",
      "source": [
        "df= df[df[\"Quantity\"] > 0]"
      ],
      "outputs": [],
      "execution_count": 20,
      "metadata": {},
      "id": "0a4a0f97-2606-4f30-9088-bfed36f13f2b"
    },
    {
      "cell_type": "code",
      "source": [
        "print(f\"Original number of rows after removing neagative values: {df.shape[0]}\")"
      ],
      "outputs": [
        {
          "output_type": "stream",
          "name": "stdout",
          "text": "Original number of rows after removing neagative values: 805620\n"
        }
      ],
      "execution_count": 21,
      "metadata": {},
      "id": "6a35508a-6e33-4c93-b394-e6afd60c45aa"
    },
    {
      "cell_type": "code",
      "source": [
        "df.drop_duplicates(inplace =True)"
      ],
      "outputs": [],
      "execution_count": 22,
      "metadata": {},
      "id": "ffb6626c-195d-415a-a0d8-11ae50a59442"
    },
    {
      "cell_type": "code",
      "source": [
        "print(f\"Original number of rows after removing duplicates: {df.shape[0]}\")"
      ],
      "outputs": [
        {
          "output_type": "stream",
          "name": "stdout",
          "text": "Original number of rows after removing duplicates: 779495\n"
        }
      ],
      "execution_count": 23,
      "metadata": {},
      "id": "21176bfd-722e-4284-a1fb-1f9832048e4e"
    },
    {
      "cell_type": "code",
      "source": [
        "df[\"InvoiceDate\"] = pd.to_datetime(df[\"InvoiceDate\"])"
      ],
      "outputs": [],
      "execution_count": 24,
      "metadata": {},
      "id": "a082e89e-a44a-488b-96df-f90b09a55614"
    },
    {
      "cell_type": "code",
      "source": [
        "df[\"Customer ID\"] = df[\"Customer ID\"].astype(int).astype(str)"
      ],
      "outputs": [],
      "execution_count": 25,
      "metadata": {},
      "id": "9d653959-d916-4069-aa4c-7e78f9b805cf"
    },
    {
      "cell_type": "code",
      "source": [
        "df.describe()"
      ],
      "outputs": [
        {
          "output_type": "execute_result",
          "execution_count": 26,
          "data": {
            "text/html": "<div>\n<style scoped>\n    .dataframe tbody tr th:only-of-type {\n        vertical-align: middle;\n    }\n\n    .dataframe tbody tr th {\n        vertical-align: top;\n    }\n\n    .dataframe thead th {\n        text-align: right;\n    }\n</style>\n<table border=\"1\" class=\"dataframe\">\n  <thead>\n    <tr style=\"text-align: right;\">\n      <th></th>\n      <th>Quantity</th>\n      <th>Price</th>\n    </tr>\n  </thead>\n  <tbody>\n    <tr>\n      <th>count</th>\n      <td>779495.000000</td>\n      <td>779495.000000</td>\n    </tr>\n    <tr>\n      <th>mean</th>\n      <td>13.507085</td>\n      <td>3.218199</td>\n    </tr>\n    <tr>\n      <th>std</th>\n      <td>146.540284</td>\n      <td>29.674823</td>\n    </tr>\n    <tr>\n      <th>min</th>\n      <td>1.000000</td>\n      <td>0.000000</td>\n    </tr>\n    <tr>\n      <th>25%</th>\n      <td>2.000000</td>\n      <td>1.250000</td>\n    </tr>\n    <tr>\n      <th>50%</th>\n      <td>6.000000</td>\n      <td>1.950000</td>\n    </tr>\n    <tr>\n      <th>75%</th>\n      <td>12.000000</td>\n      <td>3.750000</td>\n    </tr>\n    <tr>\n      <th>max</th>\n      <td>80995.000000</td>\n      <td>10953.500000</td>\n    </tr>\n  </tbody>\n</table>\n</div>",
            "text/plain": "            Quantity          Price\ncount  779495.000000  779495.000000\nmean       13.507085       3.218199\nstd       146.540284      29.674823\nmin         1.000000       0.000000\n25%         2.000000       1.250000\n50%         6.000000       1.950000\n75%        12.000000       3.750000\nmax     80995.000000   10953.500000"
          },
          "metadata": {}
        }
      ],
      "execution_count": 26,
      "metadata": {},
      "id": "ac2b3924-82de-444f-89a0-a2eba274b074"
    },
    {
      "cell_type": "code",
      "source": [
        "df_b2c= df[df[\"Quantity\"] < 70000]"
      ],
      "outputs": [],
      "execution_count": 27,
      "metadata": {},
      "id": "52d569d7-60b5-421c-9de6-602ea26ea5ca"
    },
    {
      "cell_type": "code",
      "source": [
        "df_b2b= df[df[\"Quantity\"] > 70000]"
      ],
      "outputs": [],
      "execution_count": 28,
      "metadata": {},
      "id": "c0e177f4-93d6-4ec8-8f82-298f4da32337"
    },
    {
      "cell_type": "code",
      "source": [
        "df_b2c.head()"
      ],
      "outputs": [
        {
          "output_type": "execute_result",
          "execution_count": 29,
          "data": {
            "text/html": "<div>\n<style scoped>\n    .dataframe tbody tr th:only-of-type {\n        vertical-align: middle;\n    }\n\n    .dataframe tbody tr th {\n        vertical-align: top;\n    }\n\n    .dataframe thead th {\n        text-align: right;\n    }\n</style>\n<table border=\"1\" class=\"dataframe\">\n  <thead>\n    <tr style=\"text-align: right;\">\n      <th></th>\n      <th>Invoice</th>\n      <th>StockCode</th>\n      <th>Description</th>\n      <th>Quantity</th>\n      <th>InvoiceDate</th>\n      <th>Price</th>\n      <th>Customer ID</th>\n      <th>Country</th>\n    </tr>\n  </thead>\n  <tbody>\n    <tr>\n      <th>0</th>\n      <td>489434</td>\n      <td>85048</td>\n      <td>15CM CHRISTMAS GLASS BALL 20 LIGHTS</td>\n      <td>12</td>\n      <td>2009-12-01 07:45:00</td>\n      <td>6.95</td>\n      <td>13085</td>\n      <td>United Kingdom</td>\n    </tr>\n    <tr>\n      <th>1</th>\n      <td>489434</td>\n      <td>79323P</td>\n      <td>PINK CHERRY LIGHTS</td>\n      <td>12</td>\n      <td>2009-12-01 07:45:00</td>\n      <td>6.75</td>\n      <td>13085</td>\n      <td>United Kingdom</td>\n    </tr>\n    <tr>\n      <th>2</th>\n      <td>489434</td>\n      <td>79323W</td>\n      <td>WHITE CHERRY LIGHTS</td>\n      <td>12</td>\n      <td>2009-12-01 07:45:00</td>\n      <td>6.75</td>\n      <td>13085</td>\n      <td>United Kingdom</td>\n    </tr>\n    <tr>\n      <th>3</th>\n      <td>489434</td>\n      <td>22041</td>\n      <td>RECORD FRAME 7\" SINGLE SIZE</td>\n      <td>48</td>\n      <td>2009-12-01 07:45:00</td>\n      <td>2.10</td>\n      <td>13085</td>\n      <td>United Kingdom</td>\n    </tr>\n    <tr>\n      <th>4</th>\n      <td>489434</td>\n      <td>21232</td>\n      <td>STRAWBERRY CERAMIC TRINKET BOX</td>\n      <td>24</td>\n      <td>2009-12-01 07:45:00</td>\n      <td>1.25</td>\n      <td>13085</td>\n      <td>United Kingdom</td>\n    </tr>\n  </tbody>\n</table>\n</div>",
            "text/plain": "  Invoice StockCode                          Description  Quantity  \\\n0  489434     85048  15CM CHRISTMAS GLASS BALL 20 LIGHTS        12   \n1  489434    79323P                   PINK CHERRY LIGHTS        12   \n2  489434    79323W                  WHITE CHERRY LIGHTS        12   \n3  489434     22041         RECORD FRAME 7\" SINGLE SIZE         48   \n4  489434     21232       STRAWBERRY CERAMIC TRINKET BOX        24   \n\n          InvoiceDate  Price Customer ID         Country  \n0 2009-12-01 07:45:00   6.95       13085  United Kingdom  \n1 2009-12-01 07:45:00   6.75       13085  United Kingdom  \n2 2009-12-01 07:45:00   6.75       13085  United Kingdom  \n3 2009-12-01 07:45:00   2.10       13085  United Kingdom  \n4 2009-12-01 07:45:00   1.25       13085  United Kingdom  "
          },
          "metadata": {}
        }
      ],
      "execution_count": 29,
      "metadata": {},
      "id": "35ff481f-02ca-43f8-8272-9d92f36d1a1a"
    },
    {
      "cell_type": "code",
      "source": [
        "df_b2b.head()"
      ],
      "outputs": [
        {
          "output_type": "execute_result",
          "execution_count": 30,
          "data": {
            "text/html": "<div>\n<style scoped>\n    .dataframe tbody tr th:only-of-type {\n        vertical-align: middle;\n    }\n\n    .dataframe tbody tr th {\n        vertical-align: top;\n    }\n\n    .dataframe thead th {\n        text-align: right;\n    }\n</style>\n<table border=\"1\" class=\"dataframe\">\n  <thead>\n    <tr style=\"text-align: right;\">\n      <th></th>\n      <th>Invoice</th>\n      <th>StockCode</th>\n      <th>Description</th>\n      <th>Quantity</th>\n      <th>InvoiceDate</th>\n      <th>Price</th>\n      <th>Customer ID</th>\n      <th>Country</th>\n    </tr>\n  </thead>\n  <tbody>\n    <tr>\n      <th>587080</th>\n      <td>541431</td>\n      <td>23166</td>\n      <td>MEDIUM CERAMIC TOP STORAGE JAR</td>\n      <td>74215</td>\n      <td>2011-01-18 10:01:00</td>\n      <td>1.04</td>\n      <td>12346</td>\n      <td>United Kingdom</td>\n    </tr>\n    <tr>\n      <th>1065882</th>\n      <td>581483</td>\n      <td>23843</td>\n      <td>PAPER CRAFT , LITTLE BIRDIE</td>\n      <td>80995</td>\n      <td>2011-12-09 09:15:00</td>\n      <td>2.08</td>\n      <td>16446</td>\n      <td>United Kingdom</td>\n    </tr>\n  </tbody>\n</table>\n</div>",
            "text/plain": "        Invoice StockCode                     Description  Quantity  \\\n587080   541431     23166  MEDIUM CERAMIC TOP STORAGE JAR     74215   \n1065882  581483     23843     PAPER CRAFT , LITTLE BIRDIE     80995   \n\n                InvoiceDate  Price Customer ID         Country  \n587080  2011-01-18 10:01:00   1.04       12346  United Kingdom  \n1065882 2011-12-09 09:15:00   2.08       16446  United Kingdom  "
          },
          "metadata": {}
        }
      ],
      "execution_count": 30,
      "metadata": {},
      "id": "1b77c4bf-ca8e-4045-9abd-0384d0033d1c"
    }
  ],
  "metadata": {
    "kernelspec": {
      "display_name": "Python 3.10 - AzureML",
      "language": "python",
      "name": "python38-azureml"
    },
    "language_info": {
      "codemirror_mode": {
        "name": "ipython",
        "version": 3
      },
      "file_extension": ".py",
      "mimetype": "text/x-python",
      "name": "python",
      "nbconvert_exporter": "python",
      "pygments_lexer": "ipython3",
      "version": "3.10.11"
    },
    "microsoft": {
      "ms_spell_check": {
        "ms_spell_check_language": "en"
      }
    },
    "nteract": {
      "version": "nteract-front-end@1.0.0"
    }
  },
  "nbformat": 4,
  "nbformat_minor": 5
}
